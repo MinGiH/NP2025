{
 "cells": [
  {
   "cell_type": "markdown",
   "id": "74477cc0",
   "metadata": {},
   "source": [
    "## 3장 노트 정리\n",
    "\n",
    "이 파일은 3장을 학습하면서 실행한 내용을 정리한 것이다.\n",
    "\n",
    "날짜: 2025.09.17\n",
    "\n",
    "저자: 홍민기"
   ]
  },
  {
   "cell_type": "markdown",
   "id": "9d67fe20",
   "metadata": {},
   "source": [
    "# 프로그램은 작성 순서대로 실행\n",
    "\n",
    "## 제어문: 프로그램의 실행 순서를 바꾸는 문장\n",
    "\n",
    "### 조건문\n",
    "-if, if-else, if-elif-else\n",
    "\n",
    "#### 반복문\n",
    "-while\n",
    "-for\n",
    "\n",
    "### 기타 제어문\n",
    "-break\n",
    "-continue"
   ]
  },
  {
   "cell_type": "markdown",
   "id": "12509bea",
   "metadata": {},
   "source": [
    "## if 제어문\n",
    "\n",
    "if문은 조건을 만족하면 블록을 실행하고 아니면 실행하지 않는 제\n",
    "어문이다"
   ]
  },
  {
   "cell_type": "code",
   "execution_count": 1,
   "id": "ce2ae64f",
   "metadata": {},
   "outputs": [
    {
     "name": "stdout",
     "output_type": "stream",
     "text": [
      "성적 : A\n",
      "장학금 수여\n",
      "당신의 나이는 18~22세 사이입니다\n"
     ]
    }
   ],
   "source": [
    "score = int(input(\"정수 입력:\"))\n",
    "if score >= 90 : #if문 끝에 :을 붙인다\n",
    "    print(\"성적 : A\") #들여쓰기\n",
    "    print(\"장학금 수여\")\n",
    "    \n",
    "age_0 = 22\n",
    "age_1 = 18\n",
    "age = int(input('your age? '))\n",
    "if age < age_0 and age > age_1: #복합 조건문\n",
    "    print(\"당신의 나이는 18~22세 사이입니다\")"
   ]
  },
  {
   "cell_type": "markdown",
   "id": "40a25e2b",
   "metadata": {},
   "source": [
    "## if-else 문\n",
    "- 조건이 참(True)이면 Block1을 실행하고 else: 는 무시\n",
    "- 참(True)이 아니면 else: 다음 Block2를 실행"
   ]
  },
  {
   "cell_type": "code",
   "execution_count": 2,
   "id": "e4d4f87a",
   "metadata": {},
   "outputs": [
    {
     "name": "stdout",
     "output_type": "stream",
     "text": [
      "pass\n"
     ]
    }
   ],
   "source": [
    "if score >= 90:\n",
    "    print(\"pass\")\n",
    "else : #else도 끝에 :을 붙인다\n",
    "    print(\"fail\") #들여쓰기"
   ]
  },
  {
   "cell_type": "code",
   "execution_count": 4,
   "id": "f18e41c2",
   "metadata": {},
   "outputs": [
    {
     "name": "stdout",
     "output_type": "stream",
     "text": [
      "2025 is not a leap year\n"
     ]
    }
   ],
   "source": [
    "# 평년과 윤년 구분하는 프로그램\n",
    "# 년도가 4로 나뉘어지고 100으로 나뉘어지지 않거나\n",
    "# 400으로 나뉘어지면 윤년이다 \n",
    "\n",
    "year = int(input(\"Type a year :\"))\n",
    "if (year%4 == 0 and year%100 != 0) or (year%400) == 0 :\n",
    "    print(year, \"is a leap year\")\n",
    "else :\n",
    "    print(year, \"is not a leap year\")"
   ]
  },
  {
   "cell_type": "code",
   "execution_count": 5,
   "id": "6afe9a1a",
   "metadata": {},
   "outputs": [
    {
     "name": "stdout",
     "output_type": "stream",
     "text": [
      "positive\n",
      "positive\n"
     ]
    }
   ],
   "source": [
    "#중첩 if문 if문 속에 또 다른 if문\n",
    "\n",
    "n = int(input(\"type int number : \"))\n",
    "if n > 0 :\n",
    "    print(\"positive\")\n",
    "else:\n",
    "    if n < 0 :\n",
    "        print(\"negative\")\n",
    "    else:\n",
    "        print(\"0\")\n",
    "n = int(input(\"type int number : \"))\n",
    "if n >= 0 :\n",
    "    if n == 0 :\n",
    "        print(\"0\")\n",
    "    else:\n",
    "        print(\"positive\")\n",
    "else:\n",
    "    print(\"negative\")"
   ]
  },
  {
   "cell_type": "markdown",
   "id": "9b64c903",
   "metadata": {},
   "source": [
    "# if-elif-else 문\n",
    "- if 조건1이 참이면 블록1, if 조건1이 거짓이고 elif 조건2이 참이면 블록2, 조건이 모두 거짓이면\n",
    "블록3이 실행된다"
   ]
  },
  {
   "cell_type": "code",
   "execution_count": 7,
   "id": "89cf9625",
   "metadata": {},
   "outputs": [
    {
     "name": "stdout",
     "output_type": "stream",
     "text": [
      "positive\n"
     ]
    }
   ],
   "source": [
    "n = int(input(\"type int number : \"))\n",
    "if n > 0 :\n",
    "    print(\"positive\")\n",
    "elif n < 0 :\n",
    "    print(\"negative\")\n",
    "else :\n",
    "    print(\"0\") "
   ]
  },
  {
   "cell_type": "markdown",
   "id": "bbe3406e",
   "metadata": {},
   "source": [
    "# 다중 elif 문\n",
    "- 여러 개의 elif를 사용한 문장\n",
    "- if 또는 elif 조건 중 하나만 충족되면 나머지는 무시"
   ]
  },
  {
   "cell_type": "code",
   "execution_count": 8,
   "id": "27cc3810",
   "metadata": {},
   "outputs": [
    {
     "name": "stdout",
     "output_type": "stream",
     "text": [
      "Your admission cost is $5.\n"
     ]
    }
   ],
   "source": [
    "age = 12\n",
    "if age < 4:\n",
    "    price = 0\n",
    "elif age < 18:\n",
    "    price = 5\n",
    "elif age < 65:\n",
    "    price = 10\n",
    "else:\n",
    "    price = 5\n",
    "print(\"Your admission cost is $\" + str(price) + \".\")"
   ]
  },
  {
   "cell_type": "markdown",
   "id": "3ba7cf76",
   "metadata": {},
   "source": [
    "# while 반복문\n",
    "- while 문은 조건이 만족되면 블록을 계속 반복실행하는 제어문이다"
   ]
  },
  {
   "cell_type": "markdown",
   "id": "34c8bdfb",
   "metadata": {},
   "source": [
    "# while 문\n",
    "- 조건이 만족되면 블록을 실행하고 다시 조건을 조사\n",
    "- 조건이 만족되지 않으면 다음 문장 실행"
   ]
  },
  {
   "cell_type": "code",
   "execution_count": 11,
   "id": "cc6287be",
   "metadata": {},
   "outputs": [
    {
     "ename": "KeyboardInterrupt",
     "evalue": "",
     "output_type": "error",
     "traceback": [
      "\u001b[0;31m---------------------------------------------------------------------------\u001b[0m",
      "\u001b[0;31mKeyboardInterrupt\u001b[0m                         Traceback (most recent call last)",
      "\u001b[0;32m<ipython-input-11-f95796583381>\u001b[0m in \u001b[0;36m<module>\u001b[0;34m\u001b[0m\n\u001b[1;32m      2\u001b[0m \u001b[0msum\u001b[0m \u001b[0;34m=\u001b[0m \u001b[0;36m0\u001b[0m\u001b[0;34m\u001b[0m\u001b[0;34m\u001b[0m\u001b[0m\n\u001b[1;32m      3\u001b[0m \u001b[0;32mwhile\u001b[0m \u001b[0mi\u001b[0m \u001b[0;34m<=\u001b[0m \u001b[0;36m100\u001b[0m\u001b[0;34m:\u001b[0m \u001b[0;31m#조건 판단. 끝에 :를 붙인다\u001b[0m\u001b[0;34m\u001b[0m\u001b[0;34m\u001b[0m\u001b[0m\n\u001b[0;32m----> 4\u001b[0;31m     \u001b[0msum\u001b[0m \u001b[0;34m=\u001b[0m \u001b[0msum\u001b[0m \u001b[0;34m+\u001b[0m \u001b[0mi\u001b[0m \u001b[0;31m#블록\u001b[0m\u001b[0;34m\u001b[0m\u001b[0;34m\u001b[0m\u001b[0m\n\u001b[0m\u001b[1;32m      5\u001b[0m \u001b[0mprint\u001b[0m\u001b[0;34m(\u001b[0m\u001b[0;34m\"sum=\"\u001b[0m\u001b[0;34m,\u001b[0m \u001b[0msum\u001b[0m\u001b[0;34m)\u001b[0m \u001b[0;31m#블록이 끝나면 다시 들여쓰기를 원래 위치로\u001b[0m\u001b[0;34m\u001b[0m\u001b[0;34m\u001b[0m\u001b[0m\n",
      "\u001b[0;31mKeyboardInterrupt\u001b[0m: "
     ]
    }
   ],
   "source": [
    "i = 1 #초기화\n",
    "sum = 0\n",
    "while i <= 100: #조건 판단. 끝에 :를 붙인다\n",
    "    sum = sum + i #블록\n",
    "i = i + 1 #조건 변경\n",
    "print(\"sum=\", sum) #블록이 끝나면 다시 들여쓰기를 원래 위치로"
   ]
  },
  {
   "cell_type": "code",
   "execution_count": null,
   "id": "3bcb7e59",
   "metadata": {},
   "outputs": [],
   "source": []
  }
 ],
 "metadata": {
  "kernelspec": {
   "display_name": "base",
   "language": "python",
   "name": "python3"
  },
  "language_info": {
   "codemirror_mode": {
    "name": "ipython",
    "version": 3
   },
   "file_extension": ".py",
   "mimetype": "text/x-python",
   "name": "python",
   "nbconvert_exporter": "python",
   "pygments_lexer": "ipython3",
   "version": "3.7.4"
  }
 },
 "nbformat": 4,
 "nbformat_minor": 5
}
