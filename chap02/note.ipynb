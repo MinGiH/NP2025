{
 "cells": [
  {
   "cell_type": "markdown",
   "id": "00485101",
   "metadata": {},
   "source": [
    "## 2장 노트 정리\n",
    "\n",
    "이 파일은 2장을 학습하면서 실행한 내용을 정리한 것이다.\n",
    "\n",
    "날짜: 2025.09.09\n",
    "\n",
    "저자: 홍민기"
   ]
  },
  {
   "cell_type": "code",
   "execution_count": 1,
   "id": "e146f6e1",
   "metadata": {},
   "outputs": [
    {
     "name": "stdout",
     "output_type": "stream",
     "text": [
      "HELLO\n"
     ]
    }
   ],
   "source": [
    "print(\"HELLO\")"
   ]
  },
  {
   "cell_type": "code",
   "execution_count": null,
   "id": "1ab7e3e6",
   "metadata": {},
   "outputs": [],
   "source": [
    "print"
   ]
  }
 ],
 "metadata": {
  "kernelspec": {
   "display_name": "base",
   "language": "python",
   "name": "python3"
  },
  "language_info": {
   "name": "python",
   "version": "3.7.4"
  }
 },
 "nbformat": 4,
 "nbformat_minor": 5
}
