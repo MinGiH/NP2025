{
 "cells": [
  {
   "cell_type": "markdown",
   "id": "00485101",
   "metadata": {},
   "source": [
    "## 2장 노트 정리\n",
    "\n",
    "이 파일은 2장을 학습하면서 실행한 내용을 정리한 것이다.\n",
    "\n",
    "날짜: 2025.09.09\n",
    "\n",
    "저자: 홍민기"
   ]
  },
  {
   "cell_type": "code",
   "execution_count": 1,
   "id": "e146f6e1",
   "metadata": {},
   "outputs": [
    {
     "name": "stdout",
     "output_type": "stream",
     "text": [
      "HELLO\n"
     ]
    }
   ],
   "source": [
    "print(\"HELLO\")"
   ]
  },
  {
   "cell_type": "code",
   "execution_count": 1,
   "id": "1ab7e3e6",
   "metadata": {},
   "outputs": [
    {
     "name": "stdout",
     "output_type": "stream",
     "text": [
      "x = 3\n"
     ]
    }
   ],
   "source": [
    "x = 3\n",
    "print(f\"x = {x}\")"
   ]
  },
  {
   "cell_type": "markdown",
   "id": "976c19f0",
   "metadata": {},
   "source": [
    "## 기본 입출력 함수\n",
    "\n",
    "\n",
    " print() 함수\n",
    "\n",
    " 숫자나 문자열 등의 데이터나 수식을 화면에 출력할 때 사용하는 함수."
   ]
  },
  {
   "cell_type": "code",
   "execution_count": 1,
   "id": "6a3b63c6",
   "metadata": {},
   "outputs": [
    {
     "name": "stdout",
     "output_type": "stream",
     "text": [
      "30\n",
      "서원대학교\n",
      "abc abc abc \n",
      "25 32\n",
      "25 + 32 = 57\n"
     ]
    }
   ],
   "source": [
    "print(10+20) #( ) 속의연산결과출력\n",
    "print(\"서원대학교\") #문자열출력\n",
    "print(\"abc \" * 3) #문자열3번출력\n",
    "x = 25\n",
    "y = 32\n",
    "z = x + y\n",
    "print(x, y) #변수x, y 값출력\n",
    "print(x, '+', y, '=',z) #문자열과변수의조합출력"
   ]
  },
  {
   "cell_type": "markdown",
   "id": "aaec3079",
   "metadata": {},
   "source": [
    "\t\n",
    "# print() 함수-서식 지정\n",
    "숫자나 문열 등의자 데이터를 서식을 지정하여 화면에 출력할 때 사용"
   ]
  },
  {
   "cell_type": "code",
   "execution_count": 2,
   "id": "78421862",
   "metadata": {},
   "outputs": [
    {
     "name": "stdout",
     "output_type": "stream",
     "text": [
      "30\n",
      "1020\n",
      "abc abc abc \n",
      "n=10\n",
      "m=5.2, n=10\n"
     ]
    }
   ],
   "source": [
    "print(10+20)\n",
    "print(\"10\"+\"20\") #문자열잇기\n",
    "print(\"abc \" * 3) #문자열3번출력\n",
    "n = 10\n",
    "print(\"n=%d\" %n) #서식지정출력\n",
    "m = 5.2\n",
    "print(\"m=%.1f, n=%d\" %(m,n)) #%.1f = 소솟점1자리까지표시"
   ]
  },
  {
   "cell_type": "markdown",
   "id": "6a9b7702",
   "metadata": {},
   "source": [
    "# input() \n",
    "키보드를 이용하여 숫자나 문자열 등의 데이터를 입력 받을 때 사용하는 함수.\n",
    "입력은 문자열로 받는다."
   ]
  },
  {
   "cell_type": "code",
   "execution_count": 8,
   "id": "4ee3b9cf",
   "metadata": {},
   "outputs": [
    {
     "name": "stdout",
     "output_type": "stream",
     "text": [
      "입력받은 값: '3'\n",
      "타입: <class 'str'>\n",
      "정수로 변환: 3\n",
      "타입: <class 'int'>\n",
      "문자열로 변환: '3'\n",
      "타입: <class 'str'>\n"
     ]
    }
   ],
   "source": [
    "# input() 함수는 항상 문자열로 입력을 받습니다\n",
    "n = input('type a number: ')  # 예: 3을 입력\n",
    "print(f\"입력받은 값: {repr(n)}\")  # '3' (문자열)\n",
    "print(f\"타입: {type(n)}\")\n",
    "\n",
    "# 문자열을 정수로 변환\n",
    "n_int = int(n)  # 3 (정수)\n",
    "print(f\"정수로 변환: {n_int}\")\n",
    "print(f\"타입: {type(n_int)}\")\n",
    "\n",
    "# 정수를 다시 문자열로 변환\n",
    "n_str = str(n_int)  # '3' (문자열)\n",
    "print(f\"문자열로 변환: {repr(n_str)}\")\n",
    "print(f\"타입: {type(n_str)}\")"
   ]
  },
  {
   "cell_type": "code",
   "execution_count": 10,
   "id": "c67dc8e6",
   "metadata": {},
   "outputs": [],
   "source": []
  },
  {
   "cell_type": "markdown",
   "id": "8dcd2ea3",
   "metadata": {},
   "source": []
  },
  {
   "cell_type": "markdown",
   "id": "4140e962",
   "metadata": {},
   "source": [
    "# 실수형\n",
    "\n",
    "- **정의**: 소수점이 있는 숫자를 저장하는 자료형입니다.\n",
    "- **사용예시**: 온도, 키, 몸무게, 거리 등과 같이 소수점 이하의 값까지 표현해야 하는 데이터를 저장할 때 사용합니다."
   ]
  },
  {
   "cell_type": "code",
   "execution_count": 14,
   "id": "da3d08b8",
   "metadata": {},
   "outputs": [
    {
     "data": {
      "text/plain": [
       "int"
      ]
     },
     "execution_count": 14,
     "metadata": {},
     "output_type": "execute_result"
    }
   ],
   "source": [
    "fVar = 1.0\n",
    "type(intVar)"
   ]
  },
  {
   "cell_type": "markdown",
   "id": "f1ae58c6",
   "metadata": {},
   "source": []
  },
  {
   "cell_type": "markdown",
   "id": "acaafb9c",
   "metadata": {},
   "source": [
    "\t\n",
    "# 연산자\n",
    "\n",
    "## 지정 연산자 (할당연산자)"
   ]
  },
  {
   "cell_type": "code",
   "execution_count": 18,
   "id": "e9f8c20d",
   "metadata": {},
   "outputs": [
    {
     "name": "stdout",
     "output_type": "stream",
     "text": [
      "5\n"
     ]
    }
   ],
   "source": [
    "i = 3\n",
    "i = i + 2\n",
    "\n",
    "type(strVar)\n",
    "\n",
    "'This is a literal string'\n",
    "\"This is another string\""
   ]
  },
  {
   "cell_type": "markdown",
   "id": "962bb2fb",
   "metadata": {},
   "source": []
  },
  {
   "cell_type": "code",
   "execution_count": 19,
   "id": "a308a197",
   "metadata": {},
   "outputs": [
    {
     "name": "stdout",
     "output_type": "stream",
     "text": [
      "1 3 3.3333333333333335\n"
     ]
    }
   ],
   "source": [
    "a = 10\n",
    "b = 3\n",
    "c = a % b\n",
    "d = a // b\n",
    "e = a / b\n",
    "print (c, d, e)"
   ]
  },
  {
   "cell_type": "markdown",
   "id": "aa368c03",
   "metadata": {},
   "source": []
  },
  {
   "cell_type": "code",
   "execution_count": 20,
   "id": "fbd6aa81",
   "metadata": {},
   "outputs": [
    {
     "name": "stdout",
     "output_type": "stream",
     "text": [
      "True\n",
      "False\n",
      "False\n",
      "True\n"
     ]
    }
   ],
   "source": [
    "score = 95\n",
    "print(score >= 90) #90점이상이면 True, 아니면 False\n",
    "print(score < 80) #80점미만이면 True, 아니면 False\n",
    "print(score == 90) #90점이면 True, 아니면 False\n",
    "print(score != 80) #80점이 아니면 True, 아니면 False"
   ]
  },
  {
   "cell_type": "markdown",
   "id": "7aa1805b",
   "metadata": {},
   "source": []
  },
  {
   "cell_type": "code",
   "execution_count": 21,
   "id": "f840aa89",
   "metadata": {},
   "outputs": [
    {
     "name": "stdout",
     "output_type": "stream",
     "text": [
      "True\n",
      "False\n",
      "False\n"
     ]
    }
   ],
   "source": [
    "exam = 85 \n",
    "report = 85 \n",
    "print(exam >= 80 and report >= 80) # True\n",
    "print(exam >= 90 or report >= 90) # False\n",
    "print(not(exam < 90)) # False"
   ]
  },
  {
   "cell_type": "markdown",
   "id": "38d9e1a0",
   "metadata": {},
   "source": []
  },
  {
   "cell_type": "code",
   "execution_count": 22,
   "id": "14754efa",
   "metadata": {},
   "outputs": [
    {
     "data": {
      "text/plain": [
       "True"
      ]
     },
     "execution_count": 22,
     "metadata": {},
     "output_type": "execute_result"
    }
   ],
   "source": [
    "'py' in 'python' # True\n",
    "'ty' not in 'python' # True"
   ]
  },
  {
   "cell_type": "markdown",
   "id": "e3ca5fbd",
   "metadata": {},
   "source": []
  },
  {
   "cell_type": "code",
   "execution_count": 1,
   "id": "fea91ad2",
   "metadata": {},
   "outputs": [
    {
     "name": "stdout",
     "output_type": "stream",
     "text": [
      "id(a): 94761371460416\n",
      "id(b): 94761371460416\n",
      "a와 b는 주소가 같습니다.\n",
      "a와 b는 주소가 같습니다.\n"
     ]
    }
   ],
   "source": [
    "a = 2\n",
    "b = 2\n",
    "\n",
    "print(\"id(a):\", id(a))\n",
    "print(\"id(b):\", id(b))\n",
    "\n",
    "# is : 양쪽 변수의 주소가 같은지 판단\n",
    "if id(a) == id(b):\n",
    "    print(\"a와 b는 주소가 같습니다.\")\n",
    "else:\n",
    "    print(\"a와 b는 주소가 다릅니다.\")\n",
    "\n",
    "# is not : 양쪽 변수의 주소가 다른지 판단\n",
    "if id(a) != id(b):\n",
    "    print(\"a와 b는 주소가 다릅니다.\")\n",
    "else:\n",
    "    print(\"a와 b는 주소가 같습니다.\")\n"
   ]
  },
  {
   "cell_type": "code",
   "execution_count": null,
   "id": "df7b3e69",
   "metadata": {},
   "outputs": [],
   "source": []
  }
 ],
 "metadata": {
  "kernelspec": {
   "display_name": "base",
   "language": "python",
   "name": "python3"
  },
  "language_info": {
   "codemirror_mode": {
    "name": "ipython",
    "version": 3
   },
   "file_extension": ".py",
   "mimetype": "text/x-python",
   "name": "python",
   "nbconvert_exporter": "python",
   "pygments_lexer": "ipython3",
   "version": "3.7.4"
  }
 },
 "nbformat": 4,
 "nbformat_minor": 5
}
