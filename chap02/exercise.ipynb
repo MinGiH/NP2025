{
 "cells": [
  {
   "cell_type": "markdown",
   "id": "bb1de6e1",
   "metadata": {},
   "source": [
    "## 2장 연습문제 풀이\n",
    "\n",
    "이 파일은 2장 연습문제를 설명과 함께 풀이한 내용이다.## 2장 연습문제 풀이\n",
    "\n",
    "이 파일은 2장 연습문제를 설명과 함께 풀이한 내용이다.\n",
    "\n",
    "날짜: 2025.09.09\n",
    "\n",
    "저자: 홍민기\n",
    "\n",
    "---\n",
    "\n",
    "## 연습문제 1\n",
    "\n",
    "### 1. 키보드에서 임의의 두 실수를 입력 받아 곱한 후 그 결과를 출력하는 프로그램을 작성하고 실행하라.\n",
    "\n"
   ]
  },
  {
   "cell_type": "code",
   "execution_count": 1,
   "id": "fdc8ea4f",
   "metadata": {},
   "outputs": [
    {
     "name": "stdout",
     "output_type": "stream",
     "text": [
      "두 수의 곱: 6.0\n"
     ]
    }
   ],
   "source": [
    "# 두 실수를 입력 받아 곱한 결과를 출력하는 프로그램\n",
    "a = float(input(\"첫 번째 실수를 입력하세요: \"))\n",
    "b = float(input(\"두 번째 실수를 입력하세요: \"))\n",
    "result = a * b\n",
    "print(\"두 수의 곱:\", result)"
   ]
  },
  {
   "cell_type": "markdown",
   "id": "907f8892",
   "metadata": {},
   "source": [
    "### 2. 1마일은 1.609km이다. 키보드에서 마일(정수)을 입력 받아 km로 변환해 출력하는 프로그램을 작성하고 실행하라."
   ]
  },
  {
   "cell_type": "code",
   "execution_count": 2,
   "id": "6a01528e",
   "metadata": {},
   "outputs": [
    {
     "name": "stdout",
     "output_type": "stream",
     "text": [
      "32마일은 51.488km입니다.\n"
     ]
    }
   ],
   "source": [
    "# 마일을 입력 받아 km로 변환해 출력하는 프로그램\n",
    "mile = int(input(\"마일을 입력하세요: \"))\n",
    "km = mile * 1.609\n",
    "print(f\"{mile}마일은 {km}km입니다.\")"
   ]
  },
  {
   "cell_type": "markdown",
   "id": "4f003327",
   "metadata": {},
   "source": [
    "### 3. 원의 반지름을 입력 받아 원의 둘레와 원의 면적을 출력하는 프로그램을 작성하라."
   ]
  },
  {
   "cell_type": "code",
   "execution_count": 4,
   "id": "4aacd9db",
   "metadata": {},
   "outputs": [
    {
     "name": "stdout",
     "output_type": "stream",
     "text": [
      "원의 둘레: 213.62825600000002\n",
      "원의 면적: 3631.6803520000003\n"
     ]
    }
   ],
   "source": [
    "# 원의 반지름을 입력 받아 원의 둘레와 면적을 출력하는 프로그램\n",
    "radius = float(input(\"원의 반지름을 입력하세요: \"))\n",
    "circumference = 2 * 3.141592 * radius  # 원의 둘레 공식: 2πr\n",
    "area = 3.141592 * radius * radius      # 원의 면적 공식: πr^2\n",
    "print(\"원의 둘레:\", circumference)\n",
    "print(\"원의 면적:\", area)"
   ]
  },
  {
   "cell_type": "markdown",
   "id": "24ee45e5",
   "metadata": {},
   "source": [
    "# 산술 및 관계 연산자 연습문제\n",
    "\n",
    "1. 5와 3을 더한 값을 출력하는 프로그램을 작성하라"
   ]
  },
  {
   "cell_type": "code",
   "execution_count": 5,
   "id": "1af0a8a5",
   "metadata": {},
   "outputs": [
    {
     "name": "stdout",
     "output_type": "stream",
     "text": [
      "8\n"
     ]
    }
   ],
   "source": [
    "# 5와 3을 더한 값을 출력합니다.\n",
    "print(5 + 3)"
   ]
  },
  {
   "cell_type": "markdown",
   "id": "d9446a60",
   "metadata": {},
   "source": [
    "### 2. 7에서 3을 뺀 값을 출력하는 프로그램을 작성하라."
   ]
  },
  {
   "cell_type": "code",
   "execution_count": 7,
   "id": "26c2ccc7",
   "metadata": {},
   "outputs": [
    {
     "name": "stdout",
     "output_type": "stream",
     "text": [
      "4\n"
     ]
    }
   ],
   "source": [
    "# 7에서 3을 뺀 값을 출력합니다.\n",
    "print(7 - 3)"
   ]
  },
  {
   "cell_type": "markdown",
   "id": "3710e820",
   "metadata": {},
   "source": [
    "### 3. 4를 2로 나눈 값을 출력하는 프로그램을 작성하라."
   ]
  },
  {
   "cell_type": "code",
   "execution_count": null,
   "id": "da3b1059",
   "metadata": {},
   "outputs": [],
   "source": [
    "# 4를 2로 나눈 값을 출력합니다.\n",
    "print(4 / 2)"
   ]
  },
  {
   "cell_type": "markdown",
   "id": "4eff05bf",
   "metadata": {},
   "source": [
    "### 4. 8을 3으로 나눈 몫과 나머지를 출력하는 프로그램을 작성하라."
   ]
  },
  {
   "cell_type": "code",
   "execution_count": null,
   "id": "7cf89d49",
   "metadata": {},
   "outputs": [],
   "source": [
    "# 8을 3으로 나눈 몫과 나머지를 출력합니다.\n",
    "print(\"몫:\", 8 // 3)\n",
    "print(\"나머지:\", 8 % 3)"
   ]
  },
  {
   "cell_type": "markdown",
   "id": "6ce7432d",
   "metadata": {},
   "source": [
    "### 5. 2의 5제곱을 출력하는 프로그램을 작성하라."
   ]
  },
  {
   "cell_type": "code",
   "execution_count": 14,
   "id": "868061db",
   "metadata": {},
   "outputs": [
    {
     "name": "stdout",
     "output_type": "stream",
     "text": [
      "32\n"
     ]
    }
   ],
   "source": [
    "# 2의 5제곱을 출력합니다.\n",
    "print(2 ** 5)"
   ]
  },
  {
   "cell_type": "markdown",
   "id": "8aec177a",
   "metadata": {},
   "source": [
    "### 6. 입력된 정수가 10보다 크고 20보다 작은지 검사하는 프로그램을 작성하라."
   ]
  },
  {
   "cell_type": "code",
   "execution_count": 15,
   "id": "f1928567",
   "metadata": {},
   "outputs": [
    {
     "name": "stdout",
     "output_type": "stream",
     "text": [
      "False\n"
     ]
    }
   ],
   "source": [
    "# 입력된 정수가 10보다 크고 20보다 작은지 검사합니다.\n",
    "num = int(input(\"정수를 입력하세요: \"))\n",
    "print(10 < num < 20)"
   ]
  },
  {
   "cell_type": "markdown",
   "id": "db69be55",
   "metadata": {},
   "source": [
    "7. 문자열 \"hello\"와 문자열 \"world\"를 이어 붙인 결과를 출력하는 프로그램을 작성하라."
   ]
  },
  {
   "cell_type": "code",
   "execution_count": 12,
   "id": "98bb7ef3",
   "metadata": {},
   "outputs": [
    {
     "name": "stdout",
     "output_type": "stream",
     "text": [
      "helloworld\n"
     ]
    }
   ],
   "source": [
    "# \"hello\"와 \"world\"를 이어 붙여 출력합니다.\n",
    "print(\"hello\" + \"world\")"
   ]
  },
  {
   "cell_type": "markdown",
   "id": "5a10f9ca",
   "metadata": {},
   "source": [
    "### 8. 7을 2로 나눈 결과가 3보다 작은지 검사하는 프로그램을 작성하라."
   ]
  },
  {
   "cell_type": "code",
   "execution_count": 11,
   "id": "39e8148a",
   "metadata": {},
   "outputs": [
    {
     "name": "stdout",
     "output_type": "stream",
     "text": [
      "False\n"
     ]
    }
   ],
   "source": [
    "# 7을 2로 나눈 결과가 3보다 작은지 검사합니다.\n",
    "result = 7 / 2 < 3\n",
    "print(result)"
   ]
  },
  {
   "cell_type": "markdown",
   "id": "1dd9f6dd",
   "metadata": {},
   "source": [
    "### 9. 변수 x의 값이 5와 같지 않은지 검사하는 프로그램을 작성하라."
   ]
  },
  {
   "cell_type": "code",
   "execution_count": 10,
   "id": "8a7d8524",
   "metadata": {},
   "outputs": [
    {
     "name": "stdout",
     "output_type": "stream",
     "text": [
      "True\n"
     ]
    }
   ],
   "source": [
    "# 변수 x의 값이 5와 같지 않은지 검사합니다.\n",
    "x = int(input(\"x 값을 입력하세요: \"))\n",
    "print(x != 5)"
   ]
  },
  {
   "cell_type": "markdown",
   "id": "374eb4f3",
   "metadata": {},
   "source": [
    "### 10. 변수 y의 값이 10에서 20 사이의 값인지 검사하는 프로그램을 작성하라."
   ]
  },
  {
   "cell_type": "code",
   "execution_count": 9,
   "id": "53076dab",
   "metadata": {},
   "outputs": [
    {
     "name": "stdout",
     "output_type": "stream",
     "text": [
      "True\n"
     ]
    }
   ],
   "source": [
    "# 변수 y의 값이 10에서 20 사이인지 검사합니다.\n",
    "y = int(input(\"y 값을 입력하세요: \"))\n",
    "print(10 < y)"
   ]
  },
  {
   "cell_type": "markdown",
   "id": "a035d699",
   "metadata": {},
   "source": [
    "# 논리 연산자 연습문제\n",
    "\n",
    "1. 5가 3보다 크고 7보다 작은지 검사하는 프로그램을 작성하라."
   ]
  },
  {
   "cell_type": "code",
   "execution_count": null,
   "id": "067366a0",
   "metadata": {},
   "outputs": [],
   "source": [
    "# 5가 3보다 크고 7보다 작은지 검사합니다.\n",
    "print(3 < 5 < 7)"
   ]
  },
  {
   "cell_type": "markdown",
   "id": "2448273b",
   "metadata": {},
   "source": [
    "### 2. 변수 x가 10 이상이고 20 이하인지 검사하는 프로그램을 작성하라."
   ]
  },
  {
   "cell_type": "code",
   "execution_count": null,
   "id": "5fe9623c",
   "metadata": {},
   "outputs": [],
   "source": [
    "# 변수 x가 10 이상이고 20 이하인지 검사합니다.\n",
    "x = int(input(\"x 값을 입력하세요: \"))\n",
    "print(10 <= x <= 20)"
   ]
  },
  {
   "cell_type": "markdown",
   "id": "c88e900c",
   "metadata": {},
   "source": [
    "### 3. 변수 y가 5의 배수이거나 7의 배수인지 검사하는 프로그램을 작성하라."
   ]
  },
  {
   "cell_type": "code",
   "execution_count": null,
   "id": "e5ba0d96",
   "metadata": {},
   "outputs": [],
   "source": [
    "# 변수 y가 5의 배수이거나 7의 배수인지 검사합니다.\n",
    "y = int(input(\"y 값을 입력하세요: \"))\n",
    "print(y % 5 == 0 or y % 7 == 0)"
   ]
  },
  {
   "cell_type": "markdown",
   "id": "036cd504",
   "metadata": {},
   "source": [
    "### 4. 변수 z가 양수이면서 짝수인지 검사하는 프로그램을 작성하라."
   ]
  },
  {
   "cell_type": "code",
   "execution_count": null,
   "id": "0888216e",
   "metadata": {},
   "outputs": [],
   "source": [
    "# 변수 z가 양수이면서 짝수인지 검사합니다.\n",
    "z = int(input(\"z 값을 입력하세요: \"))\n",
    "print(z > 0 and z % 2 == 0)"
   ]
  },
  {
   "cell_type": "markdown",
   "id": "ff3c51ca",
   "metadata": {},
   "source": [
    "### 5. 변수 a가 문자열 \"hello\"나 문자열 \"world\" 중 하나인지 검사하는 프로그램을 작성하라."
   ]
  },
  {
   "cell_type": "code",
   "execution_count": 17,
   "id": "3687fc0e",
   "metadata": {},
   "outputs": [
    {
     "name": "stdout",
     "output_type": "stream",
     "text": [
      "True\n"
     ]
    }
   ],
   "source": [
    "# 변수 a가 \"hello\" 또는 \"world\"인지 검사합니다.\n",
    "a = input(\"문자열을 입력하세요: \")\n",
    "print(a == \"hello\" or a == \"world\")"
   ]
  },
  {
   "cell_type": "markdown",
   "id": "f71bf254",
   "metadata": {},
   "source": [
    "# 멤버 연산자 연습문제\n",
    "\n",
    "1. 숫자 7이 리스트 [1, 2, 3, 4, 5]에 포함되어 있는지 검사하는 프로그램을 작성하라"
   ]
  },
  {
   "cell_type": "code",
   "execution_count": 22,
   "id": "a60be3c3",
   "metadata": {},
   "outputs": [
    {
     "name": "stdout",
     "output_type": "stream",
     "text": [
      "False\n"
     ]
    }
   ],
   "source": [
    "# 숫자 7이 리스트에 포함되어 있는지 검사합니다.\n",
    "lst = [1, 2, 3, 4, 5]\n",
    "print(7 in lst)"
   ]
  },
  {
   "cell_type": "markdown",
   "id": "d0d9f33c",
   "metadata": {},
   "source": [
    "### 2. 문자열 \"apple\"이 세트 {\"orange\", \"banana\", \"kiwi\"}에 포함되어 있는지 검사하는 프로그램을 작성하라."
   ]
  },
  {
   "cell_type": "code",
   "execution_count": 21,
   "id": "327ceb5a",
   "metadata": {},
   "outputs": [
    {
     "name": "stdout",
     "output_type": "stream",
     "text": [
      "False\n"
     ]
    }
   ],
   "source": [
    "# \"apple\"이 세트에 포함되어 있는지 검사합니다.\n",
    "fruits = {\"orange\", \"banana\", \"kiwi\"}\n",
    "print(\"apple\" in fruits)"
   ]
  },
  {
   "cell_type": "markdown",
   "id": "d2e47ff4",
   "metadata": {},
   "source": [
    "### 3. 숫자 6이 딕셔너리 {\"a\": 1, \"b\": 2, \"c\": 3, \"d\": 4}의 값들 중 하나인지 검사하는 프로그램을 작성하라."
   ]
  },
  {
   "cell_type": "code",
   "execution_count": 20,
   "id": "7d6be45d",
   "metadata": {},
   "outputs": [
    {
     "name": "stdout",
     "output_type": "stream",
     "text": [
      "False\n"
     ]
    }
   ],
   "source": [
    "# 숫자 6이 딕셔너리 값에 포함되어 있는지 검사합니다.\n",
    "d = {\"a\": 1, \"b\": 2, \"c\": 3, \"d\": 4}\n",
    "print(6 in d.values())"
   ]
  },
  {
   "cell_type": "markdown",
   "id": "34e7716a",
   "metadata": {},
   "source": [
    "### 4. 문자열 \"cat\"이 튜플 (\"dog\", \"cat\", \"bird\", \"hamster\")에 포함되어 있는지 검사하는 프로그램을 작성하라."
   ]
  },
  {
   "cell_type": "code",
   "execution_count": 19,
   "id": "ae2b43b1",
   "metadata": {},
   "outputs": [
    {
     "name": "stdout",
     "output_type": "stream",
     "text": [
      "True\n"
     ]
    }
   ],
   "source": [
    "# \"cat\"이 튜플에 포함되어 있는지 검사합니다.\n",
    "animals = (\"dog\", \"cat\", \"bird\", \"hamster\")\n",
    "print(\"cat\" in animals)"
   ]
  },
  {
   "cell_type": "markdown",
   "id": "a45c9c32",
   "metadata": {},
   "source": [
    "### 5. 숫자 10이 세트 {2, 4, 6, 8, 10}에 포함되어 있는지 검사하는 프로그램을 작성하라."
   ]
  },
  {
   "cell_type": "code",
   "execution_count": 18,
   "id": "167db195",
   "metadata": {},
   "outputs": [
    {
     "name": "stdout",
     "output_type": "stream",
     "text": [
      "True\n"
     ]
    }
   ],
   "source": [
    "# 숫자 10이 세트에 포함되어 있는지 검사합니다.\n",
    "nums = {2, 4, 6, 8, 10}\n",
    "print(10 in nums)"
   ]
  },
  {
   "cell_type": "markdown",
   "id": "1bcb6b04",
   "metadata": {},
   "source": [
    "# 연습문제 2\n",
    "\n"
   ]
  },
  {
   "cell_type": "markdown",
   "id": "47449968",
   "metadata": {},
   "source": [
    "### 1. 초를 입력하면 분과 초로 표시하는 프로그램. 예를 들어, 200초를 입력하면 3분 20초로 표현하라."
   ]
  },
  {
   "cell_type": "code",
   "execution_count": null,
   "id": "0a9deba6",
   "metadata": {},
   "outputs": [],
   "source": [
    "# 초를 입력 받아 분과 초로 변환하여 출력합니다.\n",
    "total_seconds = int(input(\"초를 입력하세요: \"))\n",
    "minutes = total_seconds // 60\n",
    "seconds = total_seconds % 60\n",
    "print(f\"{minutes}분 {seconds}초\")"
   ]
  },
  {
   "cell_type": "markdown",
   "id": "02f6db56",
   "metadata": {},
   "source": [
    "### 2. 분(min)을 입력 하면, 일, 시간, 분으로 출력하는 프로그램을 만들어라. (예 : 1550분은 1일 1시간 50분)"
   ]
  },
  {
   "cell_type": "code",
   "execution_count": null,
   "id": "8387cab2",
   "metadata": {},
   "outputs": [],
   "source": [
    "# 분을 입력 받아 일, 시간, 분으로 변환하여 출력합니다.\n",
    "total_minutes = int(input(\"분을 입력하세요: \"))\n",
    "days = total_minutes // (24 * 60)\n",
    "hours = (total_minutes % (24 * 60)) // 60\n",
    "minutes = total_minutes % 60\n",
    "print(f\"{days}일 {hours}시간 {minutes}분\")"
   ]
  },
  {
   "cell_type": "markdown",
   "id": "7cc40dc1",
   "metadata": {},
   "source": [
    "### 3. 500만원을 년이율 5%로 복리 저금했을 때 5년 후의 원리금의 합계를 출력하는 프로그램"
   ]
  },
  {
   "cell_type": "code",
   "execution_count": null,
   "id": "44cac652",
   "metadata": {},
   "outputs": [],
   "source": [
    "# 500만원을 5% 복리로 5년 저금했을 때 원리금 합계 출력\n",
    "principal = 5000000\n",
    "rate = 0.05\n",
    "years = 5\n",
    "amount = principal * ((1 + rate) ** years)\n",
    "print(f\"5년 후 원리금 합계: {amount:.0f}원\")"
   ]
  },
  {
   "cell_type": "markdown",
   "id": "620557de",
   "metadata": {},
   "source": [
    "### 4. 1부터 n까지의 합은 n(n+1)/2로 주어진다. 1부터 100까지의 합을 구하여 출력하는 프로그램을 작성하고 실행하라."
   ]
  },
  {
   "cell_type": "code",
   "execution_count": null,
   "id": "2eae5ac0",
   "metadata": {},
   "outputs": [],
   "source": [
    "# 1부터 100까지의 합을 구하여 출력합니다.\n",
    "n = 100\n",
    "sum_n = n * (n + 1) // 2\n",
    "print(f\"1부터 100까지의 합: {sum_n}\")"
   ]
  },
  {
   "cell_type": "markdown",
   "id": "d7cc0ead",
   "metadata": {},
   "source": [
    "### 5. 판매자가 딸기와 포도를 판매하고 있다. 포도 한 알의 무게는 75g이고 딸기 한 알의 무게는 113.5g이다. 사용자로부터 포도 알의 개수와 딸기의 개수를 입력 받아 총 무게를 계산하여 출력하는 프로그램을 작성하고 실행하라."
   ]
  },
  {
   "cell_type": "code",
   "execution_count": 23,
   "id": "a44ffd0d",
   "metadata": {},
   "outputs": [
    {
     "name": "stdout",
     "output_type": "stream",
     "text": [
      "총 무게: 490.5g\n"
     ]
    }
   ],
   "source": [
    "# 포도와 딸기의 개수를 입력 받아 총 무게를 계산하여 출력합니다.\n",
    "grape_count = int(input(\"포도 알의 개수를 입력하세요: \"))\n",
    "strawberry_count = int(input(\"딸기 개수를 입력하세요: \"))\n",
    "total_weight = grape_count * 75 + strawberry_count * 113.5\n",
    "print(f\"총 무게: {total_weight}g\")"
   ]
  }
 ],
 "metadata": {
  "kernelspec": {
   "display_name": "base",
   "language": "python",
   "name": "python3"
  },
  "language_info": {
   "codemirror_mode": {
    "name": "ipython",
    "version": 3
   },
   "file_extension": ".py",
   "mimetype": "text/x-python",
   "name": "python",
   "nbconvert_exporter": "python",
   "pygments_lexer": "ipython3",
   "version": "3.7.4"
  }
 },
 "nbformat": 4,
 "nbformat_minor": 5
}
