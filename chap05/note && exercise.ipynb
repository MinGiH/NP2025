{
 "cells": [
  {
   "cell_type": "markdown",
   "id": "b7a90246",
   "metadata": {},
   "source": [
    "# 함수란?\n",
    "- 이름을 붙여 반복적으로 사용할 수 있는 프로그램 부분\n",
    "- print(), input(), int(), str() 등\n",
    "\n",
    "## 함수를 사용하는 이유\n",
    "- 프로그램 안에서 중복된 코드를 제거한다.\n",
    "- 복잡한 프로그래밍 작업을 더 간단한 작업들로 분해할 수 있다\n",
    "- 함수는 한번 만들어지면 다른 프로그램에서도 재사용될 수 있다.\n",
    "- 함수를 사용하면 가독성(프로그램의 이해)이 증대되고, 유지 관리도 쉬워진다.\n",
    "\n",
    "## 파이썬의 함수는 일급 함수이다. 함수를 변수처럼 사용\n",
    "- 변수에 할당: a = func\n",
    "- 다른 함수의 인자로 전달 가능: func1(func)\n",
    "- return 문으로 반환 가능: return func\n",
    "## 함수의 종류\n",
    "- 내장 함수\n",
    "- 사용자 정의 함수\n",
    "\n",
    "## 사용자 정의 함수의 작성\n",
    "\n",
    "def 함수이름(매개변수) : 함수의 이름과 매개변수 정의 \n",
    "- 문장1\n",
    "- 문장2\n",
    " - ...\n",
    " - return 값 함수 종료시 반환 값. 들여쓰기가 끝나는 부분까지 함수\n",
    "\n",
    "## 함수의 정의와 호출 예\n"
   ]
  },
  {
   "cell_type": "code",
   "execution_count": 1,
   "id": "c110126d",
   "metadata": {},
   "outputs": [
    {
     "name": "stdout",
     "output_type": "stream",
     "text": [
      "Hello,  John\n"
     ]
    }
   ],
   "source": [
    "def welcome(name) : #함수의 정의\n",
    " print(\"Hello, \", name) #return 문이 없어도 됨. None 반환\n",
    "welcome('John') #함수의 호출. 'John'이 매개변수로 전달됨"
   ]
  },
  {
   "cell_type": "code",
   "execution_count": 2,
   "id": "38d5aebb",
   "metadata": {},
   "outputs": [
    {
     "name": "stdout",
     "output_type": "stream",
     "text": [
      "Wecome to Python\n"
     ]
    }
   ],
   "source": [
    "#반환 값이 없는 함수\n",
    "def prtStr(str) : #str을 매개변수라 함\n",
    " print(\"%s\" %str)\n",
    " return #반환 값이 없이 함수가 종료\n",
    "str = \"Wecome to Python\"\n",
    "prtStr(str) #매개변수를 전달하여 함수 호출"
   ]
  },
  {
   "cell_type": "code",
   "execution_count": 3,
   "id": "d92cb6d8",
   "metadata": {},
   "outputs": [
    {
     "name": "stdout",
     "output_type": "stream",
     "text": [
      "한변의 길이가 5인 정사각형의 넓이는 25\n",
      "한변의 길이가 7인 정사각형의 넓이는 49\n"
     ]
    }
   ],
   "source": [
    "#값을 반환하는 함수\n",
    "\n",
    "def squareArea(s) :\n",
    "     area = s * s\n",
    "     return area #area 값이 반환되고 종료\n",
    "a = squareArea(5) #5를 인자(argument)라 함. 반환 값이 a에 저장\n",
    "b = squareArea(7)\n",
    "print(\"한변의 길이가 %d인 정사각형의 넓이는 %d\" %(5, a))\n",
    "print(\"한변의 길이가 %d인 정사각형의 넓이는 %d\" %(7, b))"
   ]
  },
  {
   "cell_type": "code",
   "execution_count": 4,
   "id": "f2f42764",
   "metadata": {},
   "outputs": [
    {
     "name": "stdout",
     "output_type": "stream",
     "text": [
      "1275\n",
      "500500\n"
     ]
    }
   ],
   "source": [
    "#1~n까지의 합을 계산하는 \n",
    "\n",
    "def sum(n): #매개변수 n을 전달받는다\n",
    " hab = 0\n",
    " for i in range(1, n+1): #1~n까지 반복\n",
    "     hab = hab + i #합에 새로운 수를 더한다\n",
    " return hab #반환값=hab\n",
    "a = sum(50) #함수를 호출하여(인자=50) 1부터 50까지의 합을 계산\n",
    "b = sum(1000) #함수를 호출하여(인자=50) 1부터 1000까지의 합\n",
    "print(a)\n",
    "print(b)"
   ]
  },
  {
   "cell_type": "code",
   "execution_count": 14,
   "id": "c82bd032",
   "metadata": {},
   "outputs": [
    {
     "name": "stdout",
     "output_type": "stream",
     "text": [
      "반지름이 3.5cm인 원의 면적: 38.5\n",
      "반지름이 3.5cm인 원의 둘레: 22.0\n"
     ]
    }
   ],
   "source": [
    "def cir_area(r):\n",
    "    \"\"\"반지름 r을 받아 원의 면적 반환\"\"\"\n",
    "    return 3.141592 * r * r\n",
    "\n",
    "def cir_cirm(r):\n",
    "    \"\"\"반지름 r을 받아 원의 둘레 반환\"\"\"\n",
    "    return 2 * 3.141592 * r\n",
    "\n",
    "radius = 3.5\n",
    "area = cir_area(radius)\n",
    "cirm = cir_cirm(radius)\n",
    "print(\"반지름이 %.1fcm인 원의 면적: %.1f\" % (radius, area))\n",
    "print(\"반지름이 %.1fcm인 원의 둘레: %.1f\" % (radius, cirm))"
   ]
  },
  {
   "cell_type": "markdown",
   "id": "fbdec425",
   "metadata": {},
   "source": [
    "# 지역 변수(local variable)와 전역 변수(global variable)\n",
    "- 지역 변수: 함수 내에서만 값이 유효\n",
    "- 전역 변수: 프로그램 전체에서 값이 유효\n",
    "- 다음 프로그램에서 v는 지역 변수이다"
   ]
  },
  {
   "cell_type": "code",
   "execution_count": 6,
   "id": "f0389ce2",
   "metadata": {},
   "outputs": [
    {
     "name": "stdout",
     "output_type": "stream",
     "text": [
      "func1()의 v = 10\n",
      "func2()의 v = 20\n"
     ]
    }
   ],
   "source": [
    "# 함수 선언부\n",
    "def func1() :\n",
    " v = 10 #함수 func1()안의 지역 변수. func1 내에서만 유효\n",
    " print(\"func1()의 v = %d\" % v)\n",
    "def func2() :\n",
    " v = 20 #함수 func2()안의 지역 변수. func2 내에서만 유효\n",
    " print(\"func2()의 v = %d\" % v)\n",
    "# 메인 코드 부분\n",
    "func1()\n",
    "func2()"
   ]
  },
  {
   "cell_type": "code",
   "execution_count": 7,
   "id": "ea13d917",
   "metadata": {},
   "outputs": [
    {
     "name": "stdout",
     "output_type": "stream",
     "text": [
      "func1()의 v = 10\n",
      "func2()의 v = 20\n"
     ]
    }
   ],
   "source": [
    "#전역 변수의 유효 \n",
    "\n",
    "# 함수 선언부\n",
    "def func1() :\n",
    " v = 10 # 함수 func1()안의 지역 변수. 지역 변수가 우선 사용\n",
    " print(\"func1()의 v = %d\" % v)\n",
    "def func2() :\n",
    " print(\"func2()의 v = %d\" % v) # 함수 func2()안의 전역 변수\n",
    "# 전역변수\n",
    "v = 20 # 전역 변수이므로 프로그램 내에서 유효\n",
    "# 메인 코드 부분\n",
    "func1() #지역 변수 값인 10을 출력. 지역 변수가 없을 때 전역 변수 사용\n",
    "func2() #전역 변수 값인 20을 출력"
   ]
  },
  {
   "cell_type": "code",
   "execution_count": 8,
   "id": "c00b772d",
   "metadata": {},
   "outputs": [
    {
     "name": "stdout",
     "output_type": "stream",
     "text": [
      "func1()의 v = 10\n",
      "func2()의 변경된 전역 v = 30\n",
      "30\n"
     ]
    }
   ],
   "source": [
    "# 전역 변수 선언 \n",
    "\n",
    "# 함수 선언부\n",
    "def func1() :\n",
    " v = 10 #함수 func1()안의 지역 변수\n",
    " print(\"func1()의 v = %d\" % v)\n",
    "def func2() :\n",
    " global v #v를 전역 변수로 선언\n",
    " v = 30\n",
    " print(\"func2()의 변경된 전역 v = %d\" % v)\n",
    "v = 20 #함수 밖에서 정의 되었으므로 전역 변수\n",
    "# 메인 코드 부분\n",
    "func1() #10을 출력\n",
    "func2() #30을 출력\n",
    "print(v) #30을 출력. 전역변수 v가 변경됨전역 변수의 선언"
   ]
  },
  {
   "cell_type": "code",
   "execution_count": 9,
   "id": "aae171fa",
   "metadata": {},
   "outputs": [
    {
     "name": "stdout",
     "output_type": "stream",
     "text": [
      "default\n",
      "Hi! Hi! Hi! Hi! Hi! \n"
     ]
    }
   ],
   "source": [
    "#매개변수의 기본값 지정(기본 매개변수) \n",
    "\n",
    "def prtMesg(message, count=1): #count의 기본값이 1로 지정\n",
    " print (message * count)\n",
    "prtMesg('default') #message='default'. count는 기본값 사용\n",
    "prtMesg('Hi! ', 5) #message와 count 인자 전달"
   ]
  },
  {
   "cell_type": "code",
   "execution_count": 10,
   "id": "62cd57be",
   "metadata": {},
   "outputs": [
    {
     "name": "stdout",
     "output_type": "stream",
     "text": [
      "Hi!  Abe, Nothing new?\n",
      "Hi!  Bob, Good morning!\n"
     ]
    }
   ],
   "source": [
    "def greet(name, msg=\"Nothing new?\"):\n",
    "     print(\"Hi! \", name + ', ' + msg)\n",
    "greet(\"Abe\") #name 만 전달\n",
    "greet(\"Bob\", \"Good morning!\") #name과 msg 전달"
   ]
  },
  {
   "cell_type": "markdown",
   "id": "2d884bf6",
   "metadata": {},
   "source": [
    "# 가변 매개변수-매개변수의 개수가 가변일 때\n",
    "- 매개변수가 *arg로 표시되면 튜플로 처리"
   ]
  },
  {
   "cell_type": "code",
   "execution_count": 11,
   "id": "8ef4e0a7",
   "metadata": {},
   "outputs": [
    {
     "name": "stdout",
     "output_type": "stream",
     "text": [
      "6\n",
      "15\n"
     ]
    }
   ],
   "source": [
    "def total(*numbers):\n",
    "     sum = 0\n",
    "     for n in numbers: #전달 받은 매개변수를 튜플로 처리\n",
    "         sum += n\n",
    "     return sum\n",
    "print (total(1,2,3)) #3개의 인자\n",
    "print (total(1,2,3,4,5)) #5개의 인자"
   ]
  },
  {
   "cell_type": "code",
   "execution_count": 12,
   "id": "548050bb",
   "metadata": {},
   "outputs": [
    {
     "name": "stdout",
     "output_type": "stream",
     "text": [
      "Kennedy : 35-th president\n",
      "Obama : 44-th president\n",
      "Trump : 45-th president\n"
     ]
    }
   ],
   "source": [
    "#매개변수가 **keywords로 표시되면 딕셔너리로 처리\n",
    "\n",
    "def dicPresident(**keywords):\n",
    "     for i in keywords.keys(): #딕셔너리 key를 하나씩 처리\n",
    "         print(\"%s : %d-th president\" %(i, keywords[i]))\n",
    "dicPresident(Kennedy=35, Obama=44, Trump=45) #(key=value)로 전달"
   ]
  },
  {
   "cell_type": "code",
   "execution_count": 13,
   "id": "ec5c93eb",
   "metadata": {},
   "outputs": [
    {
     "name": "stdout",
     "output_type": "stream",
     "text": [
      "a= 4 b= 5 c= 3\n",
      "12\n",
      "a= 5 b= 2 c= 7\n",
      "14\n"
     ]
    }
   ],
   "source": [
    "#키워드를 이용한 매개변수 전달\n",
    "# - 매개변수의 위치가 아니라 키워드를 이용하여 매개변수 전달\n",
    "\n",
    "def func(a, b=2, c=3): #a: 위치 매개변수, b, c: 키워드 매개변수\n",
    " print('a=', a, 'b=', b, 'c=', c)\n",
    " return a + b + c\n",
    "print(func(4, 5)) #인자 위치에 의해 a=4, b=5로 전달\n",
    "print(func(5, c=7)) #키워드 c를 이용한 전달. a=5, c=7, b는 기본값"
   ]
  },
  {
   "cell_type": "markdown",
   "id": "1835898c",
   "metadata": {},
   "source": [
    "# 람다(무명) 함수\n",
    "- 이름이 없는 한 줄짜리 함수\n",
    "- lambda parameters: expr lambda 함수의 정의\n",
    "- parameters는 매개변수, expr는 결과가 return되는 수식\n",
    "- lambda x, y: x + y 매개변수 x, y를 전달받아 x + y를 리턴\n",
    "- 두 개 이상의 값을 리턴하려면 튜플, 리스트 사용\n",
    "- lambda x, y: (x + y, x * y) (x+y, x*y) 튜플을 반환\n",
    "- 람다 함수의 호출\n",
    "- (lambda x, y: x + y)(1, 2)\n",
    "- 3"
   ]
  },
  {
   "cell_type": "markdown",
   "id": "5c69075a",
   "metadata": {},
   "source": [
    "# 재귀 함수(recursion function)\n",
    "- 함수 내에서 자기 자신을 호출하는 함수\n",
    "- 같은 동작을 반복할 때 재귀 함수 사용\n",
    "- 함수가 종료되는 조건을 반드시 포함해야 한다\n",
    "- factorial(n!)을 구하는 재귀 함수"
   ]
  },
  {
   "cell_type": "code",
   "execution_count": 15,
   "id": "955f7dc3",
   "metadata": {},
   "outputs": [
    {
     "name": "stdout",
     "output_type": "stream",
     "text": [
      "120\n"
     ]
    }
   ],
   "source": [
    "def fact(n):\n",
    "    \"\"\"n!을 구하는 재귀 함수\"\"\"\n",
    "    if n == 0:  # 재귀 함수 종료 조건. n=0이면 종료\n",
    "        return 1\n",
    "    else:\n",
    "        return n * fact(n - 1)  # n! = n x (n-1)!\n",
    "\n",
    "print(fact(5))  # 5! ="
   ]
  },
  {
   "cell_type": "markdown",
   "id": "896938a1",
   "metadata": {},
   "source": [
    "# 연습문제\n",
    "\n",
    "1. 두 개의 매개변수 n, m을 전달받아 m x n개의 * 상자를 출력하는 프로그램을 함수로 작성\n",
    "- 예: 2, 4 → ****\n",
    "\n",
    "2. 하나의 숫자를 전달받아 숫자의 자리 합을 구하는 함수를 작성\n",
    "예: 123 → 1+2+3 = 6\n",
    "\n",
    "3. 두 개의 문자열이 서로 다른 처음 위치를 반환하는 함수를 작성. 두 개의 문자열이 같으면 -1을\n",
    "반환\n",
    "\n",
    "4. 숫자를 전달받아 그 수의 약수를 리스트로 반환하는 함수를 작성\n",
    "\n",
    "5. 문자열과 하나의 문자를 전달받아 문자열에서 문자의 위치를 모두 찾아 리스트로 반환하는 함수\n",
    "를 작성\n",
    "\n",
    "6. 재귀 함수를 이용하여 1부터 100까지의 합을 계산하는 프로그램"
   ]
  },
  {
   "cell_type": "code",
   "execution_count": 18,
   "id": "520ce5f4",
   "metadata": {},
   "outputs": [
    {
     "name": "stdout",
     "output_type": "stream",
     "text": [
      "****\n",
      "****\n"
     ]
    }
   ],
   "source": [
    "# 1. m x n개의 * 상자 출력 함수\n",
    "def print_box(n, m):\n",
    "    for _ in range(n):\n",
    "        print('*' * m)\n",
    "        \n",
    "print_box(2, 4)  # 예시 출력\n"
   ]
  },
  {
   "cell_type": "code",
   "execution_count": 1,
   "id": "cf54d9d9",
   "metadata": {},
   "outputs": [
    {
     "name": "stdout",
     "output_type": "stream",
     "text": [
      "6\n"
     ]
    }
   ],
   "source": [
    "def digit_sum(num):\n",
    "    return sum(int(d) for d in str(num))\n",
    "\n",
    "print(digit_sum(123))  # 6"
   ]
  },
  {
   "cell_type": "code",
   "execution_count": 23,
   "id": "f59402e7",
   "metadata": {},
   "outputs": [
    {
     "name": "stdout",
     "output_type": "stream",
     "text": [
      "2\n",
      "-1\n"
     ]
    }
   ],
   "source": [
    "# 3. 두 문자열이 처음으로 다른 위치 반환, 같으면 -1\n",
    "def first_diff(s1, s2):\n",
    "    min_len = min(len(s1), len(s2))\n",
    "    for i in range(min_len):\n",
    "        if s1[i] != s2[i]:\n",
    "            return i\n",
    "    if len(s1) != len(s2):\n",
    "        return min_len\n",
    "    return -1\n",
    "\n",
    "print(first_diff(\"apple\", \"apricot\"))  # 2\n",
    "print(first_diff(\"test\", \"test\"))      # -1\n",
    "\n"
   ]
  },
  {
   "cell_type": "code",
   "execution_count": 24,
   "id": "d37589d8",
   "metadata": {},
   "outputs": [
    {
     "name": "stdout",
     "output_type": "stream",
     "text": [
      "[1, 2, 3, 4, 6, 12]\n"
     ]
    }
   ],
   "source": [
    "# 4. 숫자의 약수를 리스트로 반환하는 함수\n",
    "def divisors(n):\n",
    "    return [i for i in range(1, n+1) if n % i == 0]\n",
    "\n",
    "print(divisors(12))  # [1, 2, 3, 4, 6, 12]\n"
   ]
  },
  {
   "cell_type": "code",
   "execution_count": 25,
   "id": "0b4dfd9b",
   "metadata": {},
   "outputs": [
    {
     "name": "stdout",
     "output_type": "stream",
     "text": [
      "[1, 3, 5]\n"
     ]
    }
   ],
   "source": [
    "# 5. 문자열에서 문자의 위치를 모두 찾아 리스트로 반환하는 함수\n",
    "def find_all(s, ch):\n",
    "    return [i for i, c in enumerate(s) if c == ch]\n",
    "\n",
    "print(find_all(\"banana\", \"a\"))  # [1, 3, 5]\n"
   ]
  },
  {
   "cell_type": "code",
   "execution_count": 26,
   "id": "45940d88",
   "metadata": {},
   "outputs": [
    {
     "name": "stdout",
     "output_type": "stream",
     "text": [
      "5050\n"
     ]
    }
   ],
   "source": [
    "# 6. 재귀 함수를 이용한 1부터 100까지의 합\n",
    "def sum_recursive(n):\n",
    "    if n == 1:\n",
    "        return 1\n",
    "    else:\n",
    "        return n + sum_recursive(n - 1)\n",
    "\n",
    "print(sum_recursive(100))  # 5050"
   ]
  },
  {
   "cell_type": "markdown",
   "id": "e3f547e5",
   "metadata": {},
   "source": [
    "# 내장 함수\n",
    "\n",
    "## eval\n",
    "- eval(expr,[globals[,locals]])\n",
    "- 문자열로 표시된 expr의 계산 결과를 반환. 계산할 수 없으면 오류\n",
    "- eval('1+2*3')\n",
    "- 7\n",
    "\n",
    "## int <-> bin, oct, hex\n",
    "- int(str, base=10)\n",
    "- 문자열 str을 10진수로 변환\n",
    "   - int('123')\n",
    "   - 123\n",
    "   - int('1010', 2) #'1010'을 2진수로 이해\n",
    "   - 10\n",
    "## filter\n",
    "- filter(func,seq)\n",
    "- seq의 각 요소에 대해 func를 호출하여 결과 True인 요소만 모아서 iterable로 반환\n",
    "\n",
    "- list(filter(lambda x: len(x)>2, ['this', 'is', 'a', 'test']))\n",
    "- ['this', 'test'] 리스트 요소 중에서 길이가 2보다 큰 요소만 모음\n",
    "\n",
    "## map\n",
    "- map(func, seq, ...)\n",
    "- seq의 각 요소에 대해 func를 호출하여 실행하고 결과를 iterable로 반환"
   ]
  },
  {
   "cell_type": "code",
   "execution_count": 2,
   "id": "73de0b0a",
   "metadata": {},
   "outputs": [
    {
     "name": "stdout",
     "output_type": "stream",
     "text": [
      "<map object at 0x7f3babbcc2d0>\n"
     ]
    }
   ],
   "source": [
    "def Squares(n):\n",
    "     return n**2\n",
    "numbers = [1,3,5,9]\n",
    "#Squares 함수에 numbers 요소를 하나씩 대입\n",
    "print(map(Squares, numbers))"
   ]
  },
  {
   "cell_type": "markdown",
   "id": "a0e4528a",
   "metadata": {},
   "source": [
    "# ord (반대: chr)\n",
    "- ord(ch) – ordinal 의 약자 (순서가 있는 정수값)\n",
    "- Ch에 대한 ASCII 코드 반환 (유니코드 문자 )\n",
    "- ord('A') → 65\n",
    "- hex(ord(“한”)) → 0xd55c\n",
    "## repr\n",
    "- repr(obj) (유니코드 문자도 가능)\n",
    "- obj를 문자열로 변환\n",
    "- repr(b'0011') → \"b'0011’”\n",
    "## round\n",
    "- round(x, n=0)\n",
    "- 실수 x를 소수점 아래 n자리로 반올림하여 반환\n",
    "   - round(12.345, 1)\n",
    "   - 12.3\n",
    "   - round(12.345, 2)\n",
    "   - 12.35\n",
    "\n",
    "## zip\n",
    "- zip(seq, *seqs)\n",
    "- seq 요소와 *seqs 요소의 튜플 쌍으로 만들어 리스트 iterable 반환"
   ]
  },
  {
   "cell_type": "code",
   "execution_count": 4,
   "id": "f6e9f37e",
   "metadata": {},
   "outputs": [
    {
     "name": "stdout",
     "output_type": "stream",
     "text": [
      "Peter Parker is actually Spiderman\n",
      "Clark Kent is actually Superman\n",
      "Wade Wilson is actually Deadpool\n",
      "Bruce Wayne is actually Batman\n",
      "[('Peter Parker', 'Spiderman'), ('Clark Kent', 'Superman'), ('Wade Wilson', 'Deadpool'), ('Bruce Wayne', 'Batman')]\n"
     ]
    }
   ],
   "source": [
    "names = ['Peter Parker', 'Clark Kent', 'Wade Wilson', 'Bruce Wayne']\n",
    "heroes = ['Spiderman', 'Superman', 'Deadpool', 'Batman']\n",
    "\n",
    "for name, hero in zip(names, heroes):\n",
    "    print(f'{name} is actually {hero}')\n",
    "\n",
    "print(list(zip(names, heroes)))"
   ]
  },
  {
   "cell_type": "markdown",
   "id": "6ed00730",
   "metadata": {},
   "source": [
    "# 변수의 타입, 함수의 반환 타입\n",
    "\n",
    "## 동적 변수 타입, 함수의 반환 타입이 기본\n",
    "- 예) 기본적으로 타입을 명시하지 않아도 알아서 타입을 추론"
   ]
  },
  {
   "cell_type": "code",
   "execution_count": 5,
   "id": "337e3ac1",
   "metadata": {},
   "outputs": [],
   "source": [
    "def add(a, b):\n",
    "    return a + b\n",
    "def greet(name):\n",
    "    return f\"Hello, {name}!\"\n",
    "def get_list():\n",
    "    return [1, 2, 3]"
   ]
  },
  {
   "cell_type": "markdown",
   "id": "e4e0e486",
   "metadata": {},
   "source": [
    "# 명시적 변수 타입, 함수의 반환 타입이 기본\n",
    "- 예) 정확한 계산이 필요할 경우에 타입힌트(hint)를 통해서 가독성과 유지보수성 향상"
   ]
  },
  {
   "cell_type": "code",
   "execution_count": 6,
   "id": "99c0f699",
   "metadata": {},
   "outputs": [],
   "source": [
    "def add(a: int, b: int) -> int:\n",
    "    return a + b\n",
    "def greet(name: str) -> str:\n",
    "    return f\"Hello, {name}!\"\n",
    "def get_list() -> list:\n",
    "    return [1, 2, 3]    "
   ]
  },
  {
   "cell_type": "markdown",
   "id": "d98c3f9b",
   "metadata": {},
   "source": [
    "# 명시적 타입 습관\n",
    "\n",
    "## 타입힌트\n",
    "- Python 3.5버전 (2015년 9월 이후 지원하기 시작함)\n",
    "- 그 이전 버전의 코드에는 타입을 지정할 수 없음\n",
    "## 타입힌트의 장점\n",
    "- 코드의 가독성 향상: 함수의 입력값과 반환값 타입을 명확히 하여 코드 이해가 쉬워집니다.\n",
    "- 버그 예방: 타입 불일치로 인한 오류를 사전에 발견할 수 있습니다.\n",
    "- 도구 지원: 타입 검사 도구(mypy 등)를 활용해 정적 분석이 가능해집니다.\n",
    "- 대규모 프로젝트에서 유지보수성 강화: 여러 개발자가 협업할 때 타입 정보를 통해 의도를 명확히 전달할 수 있습니다"
   ]
  },
  {
   "cell_type": "markdown",
   "id": "5a41b08d",
   "metadata": {},
   "source": []
  }
 ],
 "metadata": {
  "kernelspec": {
   "display_name": "base",
   "language": "python",
   "name": "python3"
  },
  "language_info": {
   "codemirror_mode": {
    "name": "ipython",
    "version": 3
   },
   "file_extension": ".py",
   "mimetype": "text/x-python",
   "name": "python",
   "nbconvert_exporter": "python",
   "pygments_lexer": "ipython3",
   "version": "3.7.4"
  }
 },
 "nbformat": 4,
 "nbformat_minor": 5
}
