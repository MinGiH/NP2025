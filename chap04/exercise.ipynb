{
 "cells": [
  {
   "cell_type": "markdown",
   "id": "5f54dcb2",
   "metadata": {},
   "source": [
    "## 4장 연습문제 풀이\n",
    "\n",
    "이 파일은 4장 연습문제를 설명과 함께 풀이한 내용이다.\n",
    "\n",
    "날짜: 2025.09.10\n",
    "\n",
    "저자: 홍민기"
   ]
  },
  {
   "cell_type": "markdown",
   "id": "7d54f19c",
   "metadata": {},
   "source": [
    "### 1. 3명 이상 친구 이름 리스트를 작성하고 다음 내용을 프로그램하시오\n",
    "- insert()로 맨 앞에 새로운 친구 추가\n",
    "- insert()로 3번째 위치에 새로운 친구 추가\n",
    "- append()로 마지막에 친구 추가"
   ]
  },
  {
   "cell_type": "code",
   "execution_count": 7,
   "id": "e933a19f",
   "metadata": {},
   "outputs": [
    {
     "name": "stdout",
     "output_type": "stream",
     "text": [
      "['수지', '철수', '지훈', '영희', '민수', '현우']\n"
     ]
    }
   ],
   "source": [
    "# 친구 이름 리스트 생성 및 추가/삽입 예시\n",
    "friends = [\"철수\", \"영희\", \"민수\"]\n",
    "friends.insert(0, \"수지\")      # 맨 앞에 추가\n",
    "friends.insert(2, \"지훈\")      # 3번째 위치에 추가 (인덱스 2)\n",
    "friends.append(\"현우\")         # 마지막에 추가\n",
    "print(friends)                # ['수지', '철수', '지훈', '영희', '민수', '현우']"
   ]
  },
  {
   "cell_type": "markdown",
   "id": "ded4eabc",
   "metadata": {},
   "source": [
    "### 2. 리스트 [1, 2, 3]에 대해 다음과 같은 처리를 하라.\n",
    "- 두 번째 요소를 17로 수정\n",
    "- 리스트에 4, 5, 6을 추가\n",
    "- 첫 번째 요소 제거\n",
    "- 리스트를 요소 순서대로 배열하기\n",
    "- 인덱스 3에 25넣기"
   ]
  },
  {
   "cell_type": "code",
   "execution_count": 6,
   "id": "0a176c7c",
   "metadata": {},
   "outputs": [
    {
     "name": "stdout",
     "output_type": "stream",
     "text": [
      "[3, 4, 5, 25, 6, 17]\n"
     ]
    }
   ],
   "source": [
    "# 리스트 요소 수정 및 추가/삭제/정렬 예시\n",
    "lst = [1, 2, 3]\n",
    "lst[1] = 17           # 두 번째 요소를 17로 수정\n",
    "lst.extend([4, 5, 6]) # 4, 5, 6 추가\n",
    "del lst[0]            # 첫 번째 요소 제거\n",
    "lst.sort()            # 요소 순서대로 배열\n",
    "lst.insert(3, 25)     # 인덱스 3에 25 넣기\n",
    "print(lst)"
   ]
  },
  {
   "cell_type": "markdown",
   "id": "483070d0",
   "metadata": {},
   "source": [
    "# 연습문제2"
   ]
  },
  {
   "cell_type": "markdown",
   "id": "5c1a3c73",
   "metadata": {},
   "source": [
    "### 3. for 루프를 이용하여 다음과 같은 리스트를 생성하라.\n",
    "- 0~49까지의 수로 구성되는 리스트\n",
    "- 1~50까지 수의 제곱으로 구성되는 리스트"
   ]
  },
  {
   "cell_type": "code",
   "execution_count": 5,
   "id": "7acd29f9",
   "metadata": {},
   "outputs": [
    {
     "name": "stdout",
     "output_type": "stream",
     "text": [
      "[0, 1, 2, 3, 4, 5, 6, 7, 8, 9, 10, 11, 12, 13, 14, 15, 16, 17, 18, 19, 20, 21, 22, 23, 24, 25, 26, 27, 28, 29, 30, 31, 32, 33, 34, 35, 36, 37, 38, 39, 40, 41, 42, 43, 44, 45, 46, 47, 48, 49]\n",
      "[1, 4, 9, 16, 25, 36, 49, 64, 81, 100, 121, 144, 169, 196, 225, 256, 289, 324, 361, 400, 441, 484, 529, 576, 625, 676, 729, 784, 841, 900, 961, 1024, 1089, 1156, 1225, 1296, 1369, 1444, 1521, 1600, 1681, 1764, 1849, 1936, 2025, 2116, 2209, 2304, 2401, 2500]\n"
     ]
    }
   ],
   "source": [
    "# 0~49까지의 수로 구성되는 리스트\n",
    "lst1 = []\n",
    "for i in range(50):\n",
    "    lst1.append(i)\n",
    "print(lst1)\n",
    "\n",
    "# 1~50까지 수의 제곱으로 구성되는 리스트\n",
    "lst2 = []\n",
    "for i in range(1, 51):\n",
    "    lst2.append(i ** 2)\n",
    "print(lst2)"
   ]
  },
  {
   "cell_type": "markdown",
   "id": "8ac3e55e",
   "metadata": {},
   "source": [
    "### 4. 크기가 같은 두 개의 리스트 L, M을 생성하고 두 리스트의 각 요소 합으로 구성되는 새로운 리스트를 생성하라.\n",
    "예를 들어 L=[1,2,3]이고 M=[4,5,6]이면 [5,7,9]인 리스트 생성"
   ]
  },
  {
   "cell_type": "code",
   "execution_count": 4,
   "id": "783f48d0",
   "metadata": {},
   "outputs": [
    {
     "name": "stdout",
     "output_type": "stream",
     "text": [
      "[5, 7, 9]\n"
     ]
    }
   ],
   "source": [
    "# 두 리스트의 각 요소 합으로 구성된 리스트 생성\n",
    "L = [1, 2, 3]\n",
    "M = [4, 5, 6]\n",
    "result = []\n",
    "for i in range(len(L)):\n",
    "    result.append(L[i] + M[i])\n",
    "print(result)"
   ]
  },
  {
   "cell_type": "markdown",
   "id": "054c7490",
   "metadata": {},
   "source": [
    "### 5. 사용자로부터 5개의 숫자를 문자열로 입력 받아 각 숫자를 +로 연결한 문자열을 생성하라.\n",
    "예를 들어 2, 5, 11, 33, 55를 입력하면 '2+5+11+33+55'를 생성하라."
   ]
  },
  {
   "cell_type": "code",
   "execution_count": 3,
   "id": "1facc9f7",
   "metadata": {},
   "outputs": [
    {
     "name": "stdout",
     "output_type": "stream",
     "text": [
      "123\n"
     ]
    }
   ],
   "source": [
    "# 5개의 숫자를 입력 받아 +로 연결한 문자열 생성\n",
    "nums = input(\"숫자 5개를 콤마(,)로 구분해 입력하세요: \").split(\",\")\n",
    "result = \"+\".join(nums)\n",
    "print(result)"
   ]
  },
  {
   "cell_type": "markdown",
   "id": "f9a9dcce",
   "metadata": {},
   "source": [
    "# 연습문제 -1"
   ]
  },
  {
   "cell_type": "code",
   "execution_count": 2,
   "id": "e8aea684",
   "metadata": {},
   "outputs": [
    {
     "name": "stdout",
     "output_type": "stream",
     "text": [
      "해당 월이 없습니다.\n",
      "['April', 'August', 'December', 'February', 'January', 'July', 'June', 'March', 'May', 'November', 'October', 'September']\n",
      "['January', 'March', 'May', 'July', 'August', 'October', 'December']\n",
      "February 28\n",
      "April 30\n",
      "June 30\n",
      "September 30\n",
      "November 30\n",
      "January 31\n",
      "March 31\n",
      "May 31\n",
      "July 31\n",
      "August 31\n",
      "October 31\n",
      "December 31\n",
      "해당 월이 없습니다.\n"
     ]
    }
   ],
   "source": [
    "# days 딕셔너리 예제\n",
    "days = {'January':31, 'February':28, 'March':31, 'April':30,\n",
    "        'May':31, 'June':30, 'July':31, 'August':31,\n",
    "        'September':30, 'October':31, 'November':30, 'December':31}\n",
    "\n",
    "# 1. 사용자가 월을 입력하면 해당 월에 일수를 출력\n",
    "month = input(\"월 이름을 입력하세요 (예: March): \")\n",
    "print(days.get(month, \"해당 월이 없습니다.\"))\n",
    "\n",
    "# 2. 알파벳 순서로 모든 월 출력\n",
    "print(sorted(days.keys()))\n",
    "\n",
    "# 3. 일수가 31인 월 모두 출력\n",
    "months_31 = [m for m, d in days.items() if d == 31]\n",
    "print(months_31)\n",
    "\n",
    "# 4. 월의 일수를 기준으로 오름차순으로 (key-value) 쌍 출력\n",
    "for m, d in sorted(days.items(), key=lambda x: x[1]):\n",
    "    print(m, d)\n",
    "\n",
    "# 5. 사용자가 월을 3자리만 입력하면 월의 일수를 출력 (Jan, Feb 등)\n",
    "abbr = input(\"월의 앞 3글자를 입력하세요 (예: Jan): \")\n",
    "found = False\n",
    "for m in days:\n",
    "    if m.startswith(abbr):\n",
    "        print(days[m])\n",
    "        found = True\n",
    "        break\n",
    "if not found:\n",
    "    print(\"해당 월이 없습니다.\")"
   ]
  }
 ],
 "metadata": {
  "kernelspec": {
   "display_name": "base",
   "language": "python",
   "name": "python3"
  },
  "language_info": {
   "codemirror_mode": {
    "name": "ipython",
    "version": 3
   },
   "file_extension": ".py",
   "mimetype": "text/x-python",
   "name": "python",
   "nbconvert_exporter": "python",
   "pygments_lexer": "ipython3",
   "version": "3.7.4"
  }
 },
 "nbformat": 4,
 "nbformat_minor": 5
}
