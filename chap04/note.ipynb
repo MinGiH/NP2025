{
 "cells": [
  {
   "cell_type": "markdown",
   "id": "179d6a30",
   "metadata": {},
   "source": [
    "## 4장 노트 정리\n",
    "\n",
    "이 파일은 4장을 학습하면서 실행한 내용을 정리한 것이다.\n",
    "\n",
    "날짜: 2025.09.09\n",
    "\n",
    "저자: 홍민기\n",
    "\n",
    "<자료 구조>\n",
    "\n",
    "1. 파이썬에서 사용되는 기본 자료 구조\n",
    "- 문자열 : str = 'oooo' 홑/겹 따옴표로 묶인 문자열\n",
    "- 리스트 : list = [o, o, o, o] 순서가 있는 원소의 목록\n",
    "-  튜플  : tuple = (o,o,o) immutable 한 데이터 쌍\n",
    "- 딕셔너리 : dic = 'a':1"
   ]
  },
  {
   "cell_type": "code",
   "execution_count": null,
   "id": "dcaba0a0",
   "metadata": {},
   "outputs": [],
   "source": []
  }
 ],
 "metadata": {
  "language_info": {
   "name": "python"
  }
 },
 "nbformat": 4,
 "nbformat_minor": 5
}
