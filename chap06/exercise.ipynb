{
 "cells": [
  {
   "cell_type": "markdown",
   "id": "291230ea",
   "metadata": {},
   "source": [
    "## 6장 연습문제 풀이\n",
    "\n",
    "이 파일은 6장 연습문제를 설명과 함께 풀이한 내용이다.## 6장 연습문제 풀이\n",
    "\n",
    "이 파일은 6장 연습문제를 설명과 함께 풀이한 내용이다.\n",
    "\n",
    "날짜: 2025.09.24\n",
    "\n",
    "저자: 홍민기\n",
    "\n",
    "- Moneybox 클래스를 작성하라. 이 클래스는 저축한 총액을 저장하는 인스턴스 변수가 있다.\n",
    "deposit(money) 메서드는 인수로 주어진 금액만큼 저축하고 총액을 출력한다,\n",
    "extract(money) 메소드는 money를 인출하고 총액을 출력한다. get_total() 메소드는 총액을\n",
    "알려준다.\n",
    "\n",
    "-  my_money = Moneybox() 객체를 생성하고 1000원을 저축하고, 200원을 인출한 다음, 총액\n",
    "을 출력하라."
   ]
  },
  {
   "cell_type": "code",
   "execution_count": 1,
   "id": "2d2fd16f",
   "metadata": {},
   "outputs": [
    {
     "name": "stdout",
     "output_type": "stream",
     "text": [
      "저축 후 총액: 1000원\n",
      "인출 후 총액: 800원\n",
      "최종 총액: 800 원\n"
     ]
    }
   ],
   "source": [
    "class Moneybox:\n",
    "    def __init__(self):\n",
    "        self.total = 0  # 저축한 총액을 저장하는 인스턴스 변수\n",
    "\n",
    "    def deposit(self, money):\n",
    "        self.total += money\n",
    "        print(f\"저축 후 총액: {self.total}원\")\n",
    "\n",
    "    def extract(self, money):\n",
    "        self.total -= money\n",
    "        print(f\"인출 후 총액: {self.total}원\")\n",
    "\n",
    "    def get_total(self):\n",
    "        return self.total\n",
    "\n",
    "my_money = Moneybox()\n",
    "my_money.deposit(1000)\n",
    "my_money.extract(200)\n",
    "print(\"최종 총액:\", my_money.get_total(), \"원\")"
   ]
  },
  {
   "cell_type": "markdown",
   "id": "30cd197a",
   "metadata": {},
   "source": [
    "- Password_manager 클래스를 작성하라. 이 클래스는 사용자의 모든 과거 패스워드를 저장하\n",
    "는 old_passwords 리스트 변수를 갖는다. 리스트의 마지막 요소는 현재 패스워드이다. 현재 패\n",
    "스워드를 알려주는 get_password와 새로운 패스워드를 설정하는 set_password 메소드를 정\n",
    "의하라. set_password는 과거에 사용하지 않은 새로운 패스워드를 설정할 때만 유효하다. 문자\n",
    "열을 입력받아 현재 패스워드와 같은지 True 또는 False를 반환하는 is_correct 메소드를 정의\n",
    "하라."
   ]
  },
  {
   "cell_type": "code",
   "execution_count": 2,
   "id": "fcbd4f09",
   "metadata": {},
   "outputs": [
    {
     "name": "stdout",
     "output_type": "stream",
     "text": [
      "새로운 패스워드가 설정되었습니다.\n",
      "새로운 패스워드가 설정되었습니다.\n",
      "이미 사용한 패스워드입니다.\n",
      "qwerty\n",
      "True\n",
      "False\n"
     ]
    }
   ],
   "source": [
    "class Password_manager:\n",
    "    def __init__(self):\n",
    "        self.old_passwords = []\n",
    "\n",
    "    def get_password(self):\n",
    "        if self.old_passwords:\n",
    "            return self.old_passwords[-1]\n",
    "        return None\n",
    "\n",
    "    def set_password(self, new_password):\n",
    "        if new_password not in self.old_passwords:\n",
    "            self.old_passwords.append(new_password)\n",
    "            print(\"새로운 패스워드가 설정되었습니다.\")\n",
    "        else:\n",
    "            print(\"이미 사용한 패스워드입니다.\")\n",
    "\n",
    "    def is_correct(self, password):\n",
    "        return password == self.get_password()\n",
    "\n",
    "# 사용 예시\n",
    "pm = Password_manager()\n",
    "pm.set_password(\"abc123\")\n",
    "pm.set_password(\"qwerty\")\n",
    "pm.set_password(\"abc123\")  # 이미 사용한 패스워드\n",
    "print(pm.get_password())   # 현재 패스워드\n",
    "print(pm.is_correct(\"qwerty\"))  # True\n",
    "print(pm.is_correct(\"abc123\"))  #"
   ]
  },
  {
   "cell_type": "markdown",
   "id": "b21a4757",
   "metadata": {},
   "source": [
    "- Articles 클래스를 작성하라. 이 클래스는 각각 제품의 이름, 재고 수량, 단가를 나타내는\n",
    "name, stock, price 인스턴스 변수를 가지고 있다. offer_price() 메소드는 구매 수량을 인수\n",
    "로 전달받아 총 가격을 반환한다. 구매 수량이 1~10개 이하이면 정상 가격을 반환하고, 11~50개\n",
    "이면 5% 할인된 가격을 반환한다. 또 51개 이상이면 10% 할인해 준다. purchase() 메소드는\n",
    "구매 수량을 인수로 전달받아 재고 수량을 구매 수량만큼 감소한다.\n",
    "\n",
    "- 이 클래스를 이용하여 단가 1000원인 ”mask“를 10,000장으로 설정하고, 40장 구매 가격과\n",
    "구매 후 재고를 출력하라."
   ]
  },
  {
   "cell_type": "code",
   "execution_count": 4,
   "id": "05125d5b",
   "metadata": {},
   "outputs": [
    {
     "name": "stdout",
     "output_type": "stream",
     "text": [
      "40장 구매 가격: 38000 원\n",
      "구매 후 재고: 9960 장\n"
     ]
    }
   ],
   "source": [
    "class Articles:\n",
    "    def __init__(self, name, stock, price):\n",
    "        self.name = name\n",
    "        self.stock = stock\n",
    "        self.price = price\n",
    "\n",
    "    def offer_price(self, amount):\n",
    "        if 1 <= amount <= 10:\n",
    "            return self.price * amount\n",
    "        elif 11 <= amount <= 50:\n",
    "            return int(self.price * amount * 0.95)\n",
    "        elif amount >= 51:\n",
    "            return int(self.price * amount * 0.90)\n",
    "        else:\n",
    "            return 0\n",
    "\n",
    "    def purchase(self, amount):\n",
    "        if amount <= self.stock:\n",
    "            self.stock -= amount\n",
    "        else:\n",
    "            print(\"재고가 부족합니다.\")\n",
    "\n",
    "# 사용 예시\n",
    "mask = Articles(\"mask\", 10000, 1000)\n",
    "price_40 = mask.offer_price(40)\n",
    "mask.purchase(40)\n",
    "print(\"40장 구매 가격:\", price_40, \"원\")\n",
    "print(\"구매 후 재고:\", mask.stock, \"장\")"
   ]
  },
  {
   "cell_type": "markdown",
   "id": "1100fc46",
   "metadata": {},
   "source": [
    "# 6-6 연습문제\n",
    "\n",
    "- 다음 프로그램을 실행했을 때 아래 내용이 출력되도록 클래스를 정의하라. 학번(id) 앞 4자리가\n",
    "2018보다 작으면 grade() 메소드에 의해 “3학년입니다“가 출력되고 아니면 ”3학년이 아닙\n",
    "니다“가 출력된다.\n",
    "\n",
    "...\n",
    "man = Student(name = “홍길동”, id = 20150001, dept = “로봇공학과”)\n",
    "print(“이름: {}, 학번: {}, 학과: {}”.format(man.name, man.id,\n",
    "man.dept))\n",
    "man.grade()\n",
    "\n",
    "- [출력 내용]\n",
    "- 이름: 홍길동, 학번: 20150001, 학과: 로봇공학과\n",
    "- 3학년입니다\n",
    "\n"
   ]
  },
  {
   "cell_type": "code",
   "execution_count": 5,
   "id": "7cc005f8",
   "metadata": {},
   "outputs": [
    {
     "name": "stdout",
     "output_type": "stream",
     "text": [
      "이름: 홍길동, 학번: 20150001, 학과: 로봇공학과\n",
      "3학년입니다\n"
     ]
    }
   ],
   "source": [
    "class Student:\n",
    "    def __init__(self, name, id, dept):\n",
    "        self.name = name\n",
    "        self.id = id\n",
    "        self.dept = dept\n",
    "\n",
    "    def grade(self):\n",
    "        # 학번 앞 4자리 추출\n",
    "        year = int(str(self.id)[:4])\n",
    "        if year < 2018:\n",
    "            print(\"3학년입니다\")\n",
    "        else:\n",
    "            print(\"3학년이 아닙니다\")\n",
    "\n",
    "man = Student(name=\"홍길동\", id=20150001, dept=\"로봇공학과\")\n",
    "print(\"이름: {}, 학번: {}, 학과: {}\".format(man.name, man.id, man.dept))\n",
    "man.grade()"
   ]
  },
  {
   "cell_type": "markdown",
   "id": "d3426458",
   "metadata": {},
   "source": [
    "# 6-7 연습문제\n",
    "\n",
    "- 다음 Person 클래스를 상속 받는 Employee 클래스를 정의하라. Employee 클래스에\n",
    "employeeID 속성을 추가하고 getID() 메소드를 정의하라. getID() 메소드는 employeeID를\n",
    "반환하는 메소드이다.\n",
    "Employee 클래스를 이용하여 Employee(\"동양\", 65, 2019)로 생성된 객체의 이름, 나이, ID\n",
    "를 출력하라.\n",
    "\n",
    "class Person:\n",
    " def __init__(self, name, age):\n",
    " self.name = name\n",
    " self.age = age\n",
    " def getName(self):\n",
    " print(self.name)\n",
    " def getAge(self):\n",
    " print(self.age)"
   ]
  },
  {
   "cell_type": "code",
   "execution_count": 6,
   "id": "758ddf8c",
   "metadata": {},
   "outputs": [
    {
     "name": "stdout",
     "output_type": "stream",
     "text": [
      "동양\n",
      "65\n",
      "2019\n"
     ]
    }
   ],
   "source": [
    "class Person:\n",
    "    def __init__(self, name, age):\n",
    "        self.name = name\n",
    "        self.age = age\n",
    "\n",
    "    def getName(self):\n",
    "        print(self.name)\n",
    "\n",
    "    def getAge(self):\n",
    "        print(self.age)\n",
    "\n",
    "class Employee(Person):\n",
    "    def __init__(self, name, age, employeeID):\n",
    "        super().__init__(name, age)\n",
    "        self.employeeID = employeeID\n",
    "\n",
    "    def getID(self):\n",
    "        print(self.employeeID)\n",
    "\n",
    "# 사용 예시\n",
    "emp = Employee(\"동양\", 65, 2019)\n",
    "emp.getName()   # 이름 출력\n",
    "emp.getAge()    # 나이 출력\n",
    "emp.getID()     #"
   ]
  },
  {
   "cell_type": "markdown",
   "id": "b3811c03",
   "metadata": {},
   "source": [
    "- 앞의 Person 클래스에서 새로운 Person 객체가 생성될 때 ID를 1001번지부터 순차적으로 자\n",
    "동으로 부여할 수 있도록 Employee 클래스를 포함해서 변경하시오. 새로운 Employee객체를\n",
    "만들어 getId() 를 호출할 때 Id가 중복되면 안된다.\n",
    "6-8 연습문제\n",
    "\n",
    "- class Person:\n",
    " def __init__(self, name, age):\n",
    " self.name = name\n",
    " self.age = age\n",
    " self.__id = ++count\n",
    " def getId(self):\n",
    " print(self.__id)\n",
    " def getAge(self):\n",
    " print(self.age)\n",
    " …"
   ]
  },
  {
   "cell_type": "code",
   "execution_count": 7,
   "id": "38c7833f",
   "metadata": {},
   "outputs": [
    {
     "name": "stdout",
     "output_type": "stream",
     "text": [
      "1001\n",
      "1002\n"
     ]
    }
   ],
   "source": [
    "class Person:\n",
    "    _count = 1000  # 클래스 변수, ID 시작값\n",
    "\n",
    "    def __init__(self, name, age):\n",
    "        self.name = name\n",
    "        self.age = age\n",
    "        Person._count += 1\n",
    "        self.__id = Person._count  # 인스턴스마다 고유 ID 부여\n",
    "\n",
    "    def getId(self):\n",
    "        print(self.__id)\n",
    "\n",
    "    def getAge(self):\n",
    "        print(self.age)\n",
    "\n",
    "class Employee(Person):\n",
    "    def __init__(self, name, age):\n",
    "        super().__init__(name, age)\n",
    "\n",
    "# 사용 예시\n",
    "p1 = Person(\"홍길동\", 20)\n",
    "p2 = Employee(\"동양\", 65)\n",
    "p3 = Employee(\"철수\", 30)\n",
    "\n",
    "p1.getId()  # 1001\n",
    "p2.getId()  # 1002"
   ]
  },
  {
   "cell_type": "markdown",
   "id": "1e31aa44",
   "metadata": {},
   "source": [
    "# 파이썬 언어에서 다음에 대해 조사하고 예제코드를 실행하여 보라\n",
    "- 1. 파이썬으로 싱글톤 패턴을 구현하는 방법들\n",
    "- 2. 파이썬에서 멀티쓰레드 구현하는 기법\n",
    "- 3. 멀티쓰레드에서 공유 변수에 대한 Critical Section 을 보호하는 기법"
   ]
  },
  {
   "cell_type": "code",
   "execution_count": 8,
   "id": "3fe8a149",
   "metadata": {},
   "outputs": [
    {
     "name": "stdout",
     "output_type": "stream",
     "text": [
      "True\n",
      "Thread 0 실행\n",
      "Thread 1 실행\n",
      "Thread 2 실행\n",
      "최종 counter 값: 50000\n"
     ]
    }
   ],
   "source": [
    "# 1. 싱글톤 패턴 구현 방법 (클래스 인스턴스가 하나만 생성되도록)\n",
    "class Singleton:\n",
    "    _instance = None\n",
    "    def __new__(cls, *args, **kwargs):\n",
    "        if not cls._instance:\n",
    "            cls._instance = super().__new__(cls)\n",
    "        return cls._instance\n",
    "\n",
    "a = Singleton()\n",
    "b = Singleton()\n",
    "print(a is b)  # True\n",
    "\n",
    "# 2. 멀티쓰레드 구현 (threading 모듈 사용)\n",
    "import threading\n",
    "\n",
    "def worker(num):\n",
    "    print(f\"Thread {num} 실행\")\n",
    "\n",
    "threads = []\n",
    "for i in range(3):\n",
    "    t = threading.Thread(target=worker, args=(i,))\n",
    "    threads.append(t)\n",
    "    t.start()\n",
    "for t in threads:\n",
    "    t.join()\n",
    "\n",
    "# 3. Critical Section 보호 (Lock 사용)\n",
    "import threading\n",
    "\n",
    "counter = 0\n",
    "lock = threading.Lock()\n",
    "\n",
    "def safe_increment():\n",
    "    global counter\n",
    "    for _ in range(10000):\n",
    "        with lock:\n",
    "            counter += 1\n",
    "\n",
    "threads = []\n",
    "for i in range(5):\n",
    "    t = threading.Thread(target=safe_increment)\n",
    "    threads.append(t)\n",
    "    t.start()\n",
    "for t in threads:\n",
    "    t.join()\n",
    "print(\"최종 counter 값:\", counter)"
   ]
  },
  {
   "cell_type": "code",
   "execution_count": null,
   "id": "d838f7fe",
   "metadata": {},
   "outputs": [],
   "source": []
  }
 ],
 "metadata": {
  "kernelspec": {
   "display_name": "base",
   "language": "python",
   "name": "python3"
  },
  "language_info": {
   "codemirror_mode": {
    "name": "ipython",
    "version": 3
   },
   "file_extension": ".py",
   "mimetype": "text/x-python",
   "name": "python",
   "nbconvert_exporter": "python",
   "pygments_lexer": "ipython3",
   "version": "3.7.4"
  }
 },
 "nbformat": 4,
 "nbformat_minor": 5
}
